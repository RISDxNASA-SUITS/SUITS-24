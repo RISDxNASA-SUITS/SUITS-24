{
 "cells": [
  {
   "cell_type": "code",
   "execution_count": null,
   "outputs": [],
   "source": [],
   "metadata": {
    "collapsed": false
   },
   "id": "21f5b50a477f1528"
  },
  {
   "cell_type": "code",
   "execution_count": 42,
   "id": "initial_id",
   "metadata": {
    "collapsed": true,
    "ExecuteTime": {
     "end_time": "2024-05-22T10:57:12.873284100Z",
     "start_time": "2024-05-22T10:57:10.805557800Z"
    }
   },
   "outputs": [],
   "source": [
    "import requests\n",
    "\n",
    "resp = requests.post(\"http://localhost:5000/make-rock\",json={'station_id':\"D\",\"rock\":{\n",
    "    \"elements\": {\n",
    "                \"SiO2\": 36.64,\n",
    "                \"TiO2\": 0.92,\n",
    "                \"Al2O3\": 8.33,\n",
    "                \"FeO\": 18.68,\n",
    "                \"MnO\": 0.43,\n",
    "                \"MgO\": 6.84,\n",
    "                \"CaO\": 5.91,\n",
    "                \"K2O\": 0.5,\n",
    "                \"P2O3\": 1.19,\n",
    "                \"other\": 20.56}}})"
   ]
  },
  {
   "cell_type": "code",
   "execution_count": 38,
   "outputs": [
    {
     "data": {
      "text/plain": "'<!doctype html>\\n<html lang=en>\\n<title>500 Internal Server Error</title>\\n<h1>Internal Server Error</h1>\\n<p>The server encountered an internal error and was unable to complete your request. Either the server is overloaded or there is an error in the application.</p>\\n'"
     },
     "execution_count": 38,
     "metadata": {},
     "output_type": "execute_result"
    }
   ],
   "source": [
    "resp.text"
   ],
   "metadata": {
    "collapsed": false,
    "ExecuteTime": {
     "end_time": "2024-05-22T10:54:38.645172700Z",
     "start_time": "2024-05-22T10:54:38.635976600Z"
    }
   },
   "id": "d477dd21af61c6e1"
  },
  {
   "cell_type": "code",
   "execution_count": null,
   "outputs": [],
   "source": [],
   "metadata": {
    "collapsed": false
   },
   "id": "90a96ddf605994d8"
  },
  {
   "cell_type": "code",
   "execution_count": 2,
   "outputs": [
    {
     "name": "stdout",
     "output_type": "stream",
     "text": [
      "(0.5000000000000002, 0.2500000000000002)\n"
     ]
    }
   ],
   "source": [
    "def to_perc(left_distance,up_distance):\n",
    "    return (left_distance / 100) * 5/6 - ((3/8) * 1/28), (up_distance / 108) * 5/6 + (1/27)\n",
    "\n",
    "def rev(x,y):\n",
    "    return (120 * x) + 45/28, (648/5) * (y - 1/27)\n",
    "\n",
    "print(rev(*to_perc(.50,.25)))"
   ],
   "metadata": {
    "collapsed": false,
    "ExecuteTime": {
     "end_time": "2024-05-22T01:26:11.728192600Z",
     "start_time": "2024-05-22T01:26:11.714513100Z"
    }
   },
   "id": "618ecb981e96504e"
  },
  {
   "cell_type": "code",
   "execution_count": null,
   "outputs": [],
   "source": [],
   "metadata": {
    "collapsed": false
   },
   "id": "666a7b365e7f07ed"
  }
 ],
 "metadata": {
  "kernelspec": {
   "display_name": "Python 3",
   "language": "python",
   "name": "python3"
  },
  "language_info": {
   "codemirror_mode": {
    "name": "ipython",
    "version": 2
   },
   "file_extension": ".py",
   "mimetype": "text/x-python",
   "name": "python",
   "nbconvert_exporter": "python",
   "pygments_lexer": "ipython2",
   "version": "2.7.6"
  }
 },
 "nbformat": 4,
 "nbformat_minor": 5
}
