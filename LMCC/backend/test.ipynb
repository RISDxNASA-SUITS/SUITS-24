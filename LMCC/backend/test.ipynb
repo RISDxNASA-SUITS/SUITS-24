{
 "cells": [
  {
   "cell_type": "code",
   "execution_count": null,
   "outputs": [],
   "source": [],
   "metadata": {
    "collapsed": false
   },
   "id": "21f5b50a477f1528"
  },
  {
   "cell_type": "code",
   "execution_count": 13,
   "id": "initial_id",
   "metadata": {
    "collapsed": true,
    "ExecuteTime": {
     "end_time": "2024-05-20T11:27:56.447436Z",
     "start_time": "2024-05-20T11:27:54.384496500Z"
    }
   },
   "outputs": [],
   "source": [
    "import requests\n",
    "\n",
    "resp = requests.get(\"http://localhost:5000/num-samples/A\")"
   ]
  },
  {
   "cell_type": "code",
   "execution_count": 15,
   "outputs": [
    {
     "data": {
      "text/plain": "'{\"num_samples\":1}\\n'"
     },
     "execution_count": 15,
     "metadata": {},
     "output_type": "execute_result"
    }
   ],
   "source": [
    "resp.text"
   ],
   "metadata": {
    "collapsed": false,
    "ExecuteTime": {
     "end_time": "2024-05-20T11:28:04.678577Z",
     "start_time": "2024-05-20T11:28:04.668566600Z"
    }
   },
   "id": "d477dd21af61c6e1"
  },
  {
   "cell_type": "code",
   "execution_count": null,
   "outputs": [],
   "source": [],
   "metadata": {
    "collapsed": false
   },
   "id": "90a96ddf605994d8"
  },
  {
   "cell_type": "code",
   "execution_count": 2,
   "outputs": [
    {
     "name": "stdout",
     "output_type": "stream",
     "text": [
      "(0.5000000000000002, 0.2500000000000002)\n"
     ]
    }
   ],
   "source": [
    "def to_perc(left_distance,up_distance):\n",
    "    return (left_distance / 100) * 5/6 - ((3/8) * 1/28), (up_distance / 108) * 5/6 + (1/27)\n",
    "\n",
    "def rev(x,y):\n",
    "    return (120 * x) + 45/28, (648/5) * (y - 1/27)\n",
    "\n",
    "print(rev(*to_perc(.50,.25)))"
   ],
   "metadata": {
    "collapsed": false,
    "ExecuteTime": {
     "end_time": "2024-05-22T01:26:11.728192600Z",
     "start_time": "2024-05-22T01:26:11.714513100Z"
    }
   },
   "id": "618ecb981e96504e"
  },
  {
   "cell_type": "code",
   "execution_count": null,
   "outputs": [],
   "source": [],
   "metadata": {
    "collapsed": false
   },
   "id": "666a7b365e7f07ed"
  }
 ],
 "metadata": {
  "kernelspec": {
   "display_name": "Python 3",
   "language": "python",
   "name": "python3"
  },
  "language_info": {
   "codemirror_mode": {
    "name": "ipython",
    "version": 2
   },
   "file_extension": ".py",
   "mimetype": "text/x-python",
   "name": "python",
   "nbconvert_exporter": "python",
   "pygments_lexer": "ipython2",
   "version": "2.7.6"
  }
 },
 "nbformat": 4,
 "nbformat_minor": 5
}
